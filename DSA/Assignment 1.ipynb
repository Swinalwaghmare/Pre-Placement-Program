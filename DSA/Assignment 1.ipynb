{
 "cells": [
  {
   "cell_type": "markdown",
   "id": "925e7575",
   "metadata": {},
   "source": [
    "**Q1.** Given an array of integers nums and an integer target, return indices of the two numbers such that they add up to target.\n",
    "\n",
    "You may assume that each input would have exactly one solution, and you may not use the same element twice.\n",
    "\n",
    "You can return the answer in any order.\n",
    "\n",
    "**Example:**\n",
    "Input: nums = [2,7,11,15], target = 9\n",
    "Output0 [0,1]\n",
    "\n",
    "**Explanation:** Because nums[0] + nums[1] == 9, we return [0, 1][\n",
    "\n",
    "</aside>"
   ]
  },
  {
   "cell_type": "code",
   "execution_count": 1,
   "id": "c5008edc",
   "metadata": {},
   "outputs": [],
   "source": [
    "class solution:\n",
    "    \n",
    "    def two_sums(self, arr, target):\n",
    "        lst = []\n",
    "        for i in range(len(arr)):\n",
    "            for j in range(i+1,len(arr)):\n",
    "                if (arr[i] + arr[j] == target):\n",
    "                    lst.append(i)\n",
    "                    lst.append(j)\n",
    "                    break\n",
    "                else:\n",
    "                    continue\n",
    "        return lst"
   ]
  },
  {
   "cell_type": "code",
   "execution_count": 2,
   "id": "3396463e",
   "metadata": {},
   "outputs": [
    {
     "data": {
      "text/plain": [
       "[0, 1]"
      ]
     },
     "execution_count": 2,
     "metadata": {},
     "output_type": "execute_result"
    }
   ],
   "source": [
    "res  = solution()\n",
    "res.two_sums([2,7,11,15],9)"
   ]
  },
  {
   "cell_type": "markdown",
   "id": "2300a95f",
   "metadata": {},
   "source": [
    "**Q2.** Given an integer array nums and an integer val, remove all occurrences of val in nums in-place. The order of the elements may be changed. Then return the number of elements in nums which are not equal to val.\n",
    "\n",
    "Consider the number of elements in nums which are not equal to val be k, to get accepted, you need to do the following things:\n",
    "\n",
    "- Change the array nums such that the first k elements of nums contain the elements which are not equal to val. The remaining elements of nums are not important as well as the size of nums.\n",
    "- Return k.\n",
    "\n",
    "**Example :**\n",
    "Input: nums = [3,2,2,3], val = 3\n",
    "Output: 2, nums = [2,2,_*,_*]\n",
    "\n",
    "**Explanation:** Your function should return k = 2, with the first two elements of nums being 2. It does not matter what you leave beyond the returned k (hence they are underscores)"
   ]
  },
  {
   "cell_type": "code",
   "execution_count": 3,
   "id": "c245b5a8",
   "metadata": {},
   "outputs": [],
   "source": [
    "class solution:\n",
    "    def removeElement(self, nums, val):\n",
    "        index = 0\n",
    "        for i in nums:\n",
    "            if i != val:\n",
    "                nums[index] = i\n",
    "                index += 1\n",
    "        return index"
   ]
  },
  {
   "cell_type": "code",
   "execution_count": 4,
   "id": "7b7993c0",
   "metadata": {},
   "outputs": [
    {
     "data": {
      "text/plain": [
       "2"
      ]
     },
     "execution_count": 4,
     "metadata": {},
     "output_type": "execute_result"
    }
   ],
   "source": [
    "res = solution()\n",
    "res.removeElement([3,2,2,3],2)"
   ]
  },
  {
   "cell_type": "markdown",
   "id": "96736257",
   "metadata": {},
   "source": [
    "**Q3.** Given a sorted array of distinct integers and a target value, return the index if the target is found. If not, return the index where it would be if it were inserted in order.\n",
    "\n",
    "You must write an algorithm with O(log n) runtime complexity.\n",
    "\n",
    "**Example 1:**\n",
    "Input: nums = [1,3,5,6], target = 5\n",
    "\n",
    "Output: 2"
   ]
  },
  {
   "cell_type": "code",
   "execution_count": 5,
   "id": "de2834a2",
   "metadata": {},
   "outputs": [],
   "source": [
    "class solution:\n",
    "    \n",
    "    def insertedOrder(self,nums,val):\n",
    "        l = 0\n",
    "        r = len(nums) - 1\n",
    "        \n",
    "        while l <= r:\n",
    "            mid = (l+r)//2\n",
    "            if nums[mid] < val:\n",
    "                l = mid + 1\n",
    "            elif nums[mid] > val:\n",
    "                r = mid - 1\n",
    "            else:\n",
    "                return mid\n",
    "        else:\n",
    "            return l"
   ]
  },
  {
   "cell_type": "code",
   "execution_count": 6,
   "id": "454de00e",
   "metadata": {},
   "outputs": [
    {
     "data": {
      "text/plain": [
       "2"
      ]
     },
     "execution_count": 6,
     "metadata": {},
     "output_type": "execute_result"
    }
   ],
   "source": [
    "res = solution()\n",
    "res.insertedOrder([1,3,5,6],5)"
   ]
  },
  {
   "cell_type": "markdown",
   "id": "7494a437",
   "metadata": {},
   "source": [
    "**Q4.** You are given a large integer represented as an integer array digits, where each digits[i] is the ith digit of the integer. The digits are ordered from most significant to least significant in left-to-right order. The large integer does not contain any leading 0's.\n",
    "\n",
    "Increment the large integer by one and return the resulting array of digits.\n",
    "\n",
    "**Example 1:**\n",
    "Input: digits = [1,2,3]\n",
    "Output: [1,2,4]\n",
    "\n",
    "**Explanation:** The array represents the integer 123.\n",
    "\n",
    "Incrementing by one gives 123 + 1 = 124.\n",
    "Thus, the result should be [1,2,4]."
   ]
  },
  {
   "cell_type": "code",
   "execution_count": 7,
   "id": "b4f7d899",
   "metadata": {},
   "outputs": [],
   "source": [
    "class solution:\n",
    "    \n",
    "    def leftrightOrder(self,digits):\n",
    "        lst = []\n",
    "        result = ''.join([str(num) for num in digits])\n",
    "            \n",
    "        for i in str(int(result) + 1):\n",
    "            lst.append(int(i))\n",
    "        return lst"
   ]
  },
  {
   "cell_type": "code",
   "execution_count": 8,
   "id": "94246ef0",
   "metadata": {},
   "outputs": [
    {
     "data": {
      "text/plain": [
       "[1, 2, 4]"
      ]
     },
     "execution_count": 8,
     "metadata": {},
     "output_type": "execute_result"
    }
   ],
   "source": [
    "res = solution()\n",
    "res.leftrightOrder([1,2,3])"
   ]
  },
  {
   "cell_type": "markdown",
   "id": "b8218f7c",
   "metadata": {},
   "source": [
    "**Q5.** You are given two integer arrays nums1 and nums2, sorted in non-decreasing order, and two integers m and n, representing the number of elements in nums1 and nums2 respectively.\n",
    "\n",
    "Merge nums1 and nums2 into a single array sorted in non-decreasing order.\n",
    "\n",
    "The final sorted array should not be returned by the function, but instead be stored inside the array nums1. To accommodate this, nums1 has a length of m + n, where the first m elements denote the elements that should be merged, and the last n elements are set to 0 and should be ignored. nums2 has a length of n.\n",
    "\n",
    "**Example 1:**\n",
    "Input: nums1 = [1,2,3,0,0,0], m = 3, nums2 = [2,5,6], n = 3\n",
    "Output: [1,2,2,3,5,6]\n",
    "\n",
    "**Explanation:** The arrays we are merging are [1,2,3] and [2,5,6].\n",
    "The result of the merge is [1,2,2,3,5,6] with the underlined elements coming from nums1."
   ]
  },
  {
   "cell_type": "code",
   "execution_count": null,
   "id": "196b06d8",
   "metadata": {},
   "outputs": [],
   "source": []
  },
  {
   "cell_type": "markdown",
   "id": "b3bc526e",
   "metadata": {},
   "source": [
    "**Q6.** Given an integer array nums, return true if any value appears at least twice in the array, and return false if every element is distinct.\n",
    "\n",
    "**Example 1:**\n",
    "Input: nums = [1,2,3,1]\n",
    "\n",
    "Output: true"
   ]
  },
  {
   "cell_type": "code",
   "execution_count": 9,
   "id": "dd57e7f9",
   "metadata": {},
   "outputs": [],
   "source": [
    "class solution:\n",
    "    def containsDuplicate(self, nums) -> bool:\n",
    "        num_set = set()\n",
    "        for i in nums:\n",
    "            if i in num_set:\n",
    "                return True\n",
    "            else:\n",
    "                num_set.add(i)\n",
    "        return False"
   ]
  },
  {
   "cell_type": "code",
   "execution_count": 10,
   "id": "861da603",
   "metadata": {},
   "outputs": [
    {
     "data": {
      "text/plain": [
       "True"
      ]
     },
     "execution_count": 10,
     "metadata": {},
     "output_type": "execute_result"
    }
   ],
   "source": [
    "res = solution()\n",
    "res.containsDuplicate([1,2,3,1])"
   ]
  },
  {
   "cell_type": "markdown",
   "id": "0868d858",
   "metadata": {},
   "source": [
    "**Q7.** Given an integer array nums, move all 0's to the end of it while maintaining the relative order of the nonzero elements.\n",
    "\n",
    "Note that you must do this in-place without making a copy of the array.\n",
    "\n",
    "**Example 1:**\n",
    "Input: nums = [0,1,0,3,12]\n",
    "Output: [1,3,12,0,0]"
   ]
  },
  {
   "cell_type": "code",
   "execution_count": 11,
   "id": "7dba4d0f",
   "metadata": {},
   "outputs": [],
   "source": [
    "class solution:\n",
    "    def moveZeroes(self, nums):\n",
    "        \"\"\"\n",
    "        Do not return anything, modify nums in-place instead.\n",
    "        \"\"\"\n",
    "        slow = 0\n",
    "        for fast in range(len(nums)):\n",
    "            if nums[fast] != 0 and nums[slow] == 0:\n",
    "                nums[slow], nums[fast] = nums[fast], nums[slow]\n",
    "\n",
    "            if nums[slow] != 0:\n",
    "                slow += 1 \n",
    "        return nums"
   ]
  },
  {
   "cell_type": "code",
   "execution_count": 12,
   "id": "16dd1edd",
   "metadata": {},
   "outputs": [
    {
     "data": {
      "text/plain": [
       "[1, 3, 12, 0, 0]"
      ]
     },
     "execution_count": 12,
     "metadata": {},
     "output_type": "execute_result"
    }
   ],
   "source": [
    "res = solution()\n",
    "res.moveZeroes([0,1,0,3,12])"
   ]
  },
  {
   "cell_type": "markdown",
   "id": "1d3a6010",
   "metadata": {},
   "source": [
    "**Q8.** You have a set of integers s, which originally contains all the numbers from 1 to n. Unfortunately, due to some error, one of the numbers in s got duplicated to another number in the set, which results in repetition of one number and loss of another number.\n",
    "\n",
    "You are given an integer array nums representing the data status of this set after the error.\n",
    "\n",
    "Find the number that occurs twice and the number that is missing and return them in the form of an array.\n",
    "\n",
    "**Example 1:**\n",
    "Input: nums = [1,2,2,4]\n",
    "Output: [2,3]"
   ]
  },
  {
   "cell_type": "code",
   "execution_count": 13,
   "id": "1a686ec7",
   "metadata": {},
   "outputs": [],
   "source": [
    "nums = [1,2,2,4]"
   ]
  },
  {
   "cell_type": "code",
   "execution_count": 14,
   "id": "77f401a0",
   "metadata": {},
   "outputs": [],
   "source": [
    "from statistics import mode\n",
    "class Solution:\n",
    "    def findErrorNums(self, nums):\n",
    "        l=[]\n",
    "        s=set(range(1,len(nums)+1))\n",
    "        l.append(mode(nums))\n",
    "        l.append((list(s-set(nums)))[0])\n",
    "        return l"
   ]
  },
  {
   "cell_type": "code",
   "execution_count": 15,
   "id": "27501dc2",
   "metadata": {},
   "outputs": [
    {
     "data": {
      "text/plain": [
       "[2, 3]"
      ]
     },
     "execution_count": 15,
     "metadata": {},
     "output_type": "execute_result"
    }
   ],
   "source": [
    "res = Solution()\n",
    "res.findErrorNums([1,2,2,4])"
   ]
  }
 ],
 "metadata": {
  "kernelspec": {
   "display_name": "Python 3 (ipykernel)",
   "language": "python",
   "name": "python3"
  },
  "language_info": {
   "codemirror_mode": {
    "name": "ipython",
    "version": 3
   },
   "file_extension": ".py",
   "mimetype": "text/x-python",
   "name": "python",
   "nbconvert_exporter": "python",
   "pygments_lexer": "ipython3",
   "version": "3.9.12"
  }
 },
 "nbformat": 4,
 "nbformat_minor": 5
}
